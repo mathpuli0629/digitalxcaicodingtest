{
 "cells": [
  {
   "cell_type": "code",
   "execution_count": null,
   "metadata": {},
   "outputs": [],
   "source": [
    "import csv\n",
    "import random\n",
    "from typing import List, Dict\n",
    "\n",
    "def read_csv(file_path: str) -> List[Dict[str, str]]:\n",
    "    with open(file_path, mode='r', newline='', encoding='utf-8') as file:\n",
    "        return list(csv.DictReader(file))\n",
    "\n",
    "def write_csv(file_path: str, data: List[Dict[str, str]]):\n",
    "    with open(file_path, mode='w', newline='', encoding='utf-8') as file:\n",
    "        writer = csv.DictWriter(file, fieldnames=data[0].keys())\n",
    "        writer.writeheader()\n",
    "        writer.writerows(data)\n",
    "\n",
    "def assign_secret_santa(employees: List[Dict[str, str]], previous: Dict[str, str]) -> List[Dict[str, str]]:\n",
    "    names = [e[\"Employee_Name\"] for e in employees]\n",
    "    available = names[:]\n",
    "    random.shuffle(available)\n",
    "    \n",
    "    assignments = []\n",
    "    for emp in employees:\n",
    "        choices = [n for n in available if n != emp[\"Employee_Name\"] and n != previous.get(emp[\"Employee_Name\"])]\n",
    "        if not choices:\n",
    "            return assign_secret_santa(employees, previous)\n",
    "        secret_child = random.choice(choices)\n",
    "        assignments.append({\n",
    "            \"Employee_Name\": emp[\"Employee_Name\"], \n",
    "            \"Employee_EmailID\": emp[\"Employee_EmailID\"], \n",
    "            \"Secret_Child_Name\": secret_child, \n",
    "            \"Secret_Child_EmailID\": next(e[\"Employee_EmailID\"] for e in employees if e[\"Employee_Name\"] == secret_child)\n",
    "        })\n",
    "        available.remove(secret_child)\n",
    "    \n",
    "    return assignments\n"
   ]
  },
  {
   "cell_type": "code",
   "execution_count": null,
   "metadata": {},
   "outputs": [],
   "source": [
    "employees = read_csv(\"employees.csv\")\n",
    "previous_assignments = {row[\"Employee_Name\"]: row[\"Secret_Child_Name\"] for row in read_csv(\"previous_santa.csv\")} if employees else {}"
   ]
  },
  {
   "cell_type": "code",
   "execution_count": null,
   "metadata": {},
   "outputs": [],
   "source": [
    "new_assignments = assign_secret_santa(employees, previous_assignments)"
   ]
  },
  {
   "cell_type": "code",
   "execution_count": null,
   "metadata": {},
   "outputs": [],
   "source": [
    "write_csv(\"new_santa_assignments.csv\", new_assignments)\n",
    "print(\"Secret Santa assignments completed!\")"
   ]
  },
  {
   "cell_type": "code",
   "execution_count": 3,
   "metadata": {},
   "outputs": [
    {
     "name": "stderr",
     "output_type": "stream",
     "text": [
      "From https://github.com/mathpuli0629/digitalxcaicodingtest\n",
      " * [new branch]      main       -> origin/main\n"
     ]
    },
    {
     "name": "stdout",
     "output_type": "stream",
     "text": [
      "Merge made by the 'ort' strategy.\n",
      " README.md | 1 +\n",
      " 1 file changed, 1 insertion(+)\n",
      " create mode 100644 README.md\n"
     ]
    },
    {
     "name": "stderr",
     "output_type": "stream",
     "text": [
      "From https://github.com/mathpuli0629/digitalxcaicodingtest\n",
      " * branch            main       -> FETCH_HEAD\n"
     ]
    }
   ],
   "source": [
    "!git fetch origin\n",
    "!git pull origin main --allow-unrelated-histories\n"
   ]
  },
  {
   "cell_type": "code",
   "execution_count": 4,
   "metadata": {},
   "outputs": [
    {
     "name": "stdout",
     "output_type": "stream",
     "text": [
      "Reinitialized existing Git repository in G:/Desktop Icons/SOFI/digitalxcaicodingtest/.git/\n",
      "On branch main\n",
      "nothing to commit, working tree clean\n"
     ]
    },
    {
     "name": "stderr",
     "output_type": "stream",
     "text": [
      "error: remote origin already exists.\n"
     ]
    },
    {
     "name": "stdout",
     "output_type": "stream",
     "text": [
      "branch 'main' set up to track 'origin/main'.\n"
     ]
    },
    {
     "name": "stderr",
     "output_type": "stream",
     "text": [
      "To https://github.com/mathpuli0629/digitalxcaicodingtest\n",
      "   da11eff..f6fa822  main -> main\n"
     ]
    }
   ],
   "source": [
    "!git init\n",
    "!git add .\n",
    "!git commit -m \"Initial commit - Secret Santa Game\"\n",
    "!git branch -M main\n",
    "!git remote add origin https://github.com/mathpuli0629/digitalxcaicodingtest\n",
    "!git push -u origin main"
   ]
  },
  {
   "cell_type": "code",
   "execution_count": 5,
   "metadata": {},
   "outputs": [
    {
     "name": "stdout",
     "output_type": "stream",
     "text": [
      "On branch main\n",
      "Your branch is up to date with 'origin/main'.\n",
      "\n",
      "nothing to commit, working tree clean\n"
     ]
    },
    {
     "name": "stderr",
     "output_type": "stream",
     "text": [
      "Everything up-to-date\n"
     ]
    }
   ],
   "source": [
    "!git add .\n",
    "!git commit -m \"Update Secret Santa logic\"\n",
    "!git push origin main"
   ]
  }
 ],
 "metadata": {
  "kernelspec": {
   "display_name": "Python 3",
   "language": "python",
   "name": "python3"
  },
  "language_info": {
   "codemirror_mode": {
    "name": "ipython",
    "version": 3
   },
   "file_extension": ".py",
   "mimetype": "text/x-python",
   "name": "python",
   "nbconvert_exporter": "python",
   "pygments_lexer": "ipython3",
   "version": "3.12.2"
  }
 },
 "nbformat": 4,
 "nbformat_minor": 2
}
