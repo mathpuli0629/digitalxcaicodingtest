{
 "cells": [
  {
   "cell_type": "code",
   "execution_count": 11,
   "metadata": {},
   "outputs": [
    {
     "name": "stdout",
     "output_type": "stream",
     "text": [
      "                 Group name  Number of occurrences\n",
      "             Huntingdon GMs                      1\n",
      "                GCP Team FR                      1\n",
      "              SML Group GMs                      1\n",
      "                Eastend GMs                      3\n",
      "Huntingdon And LiZ Area GMs                      1\n",
      "                        86A                      1\n",
      "              Okta_FR_Local                      1\n",
      "         Okta-Global_YOOBIC                      1\n",
      "       Darlington Group GMs                      1\n",
      "        Role-IN-Shop0363_GM                      1\n",
      "              Gurgaon-Shops                      2\n",
      "      Hillingdon West Group                      1\n",
      " Coffee subs & loyalty team                      2\n",
      "                Revatta_SSO                      1\n",
      "                   Electron                      1\n",
      "                TM-Electron                      1\n",
      "             Partners in GR                      2\n",
      "                JOP Team FR                      1\n",
      "     Catering services team                      1\n"
     ]
    }
   ],
   "source": [
    "import pandas as pd\n",
    "\n",
    "# Path to your CSV file\n",
    "file_path = \"G:/Desktop Icons/SOFI/coding challenge test (1).xlsx\"\n",
    "\n",
    "# Read CSV file into DataFrame\n",
    "df = pd.read_excel(file_path,sheet_name=\"Input Data sheet\", engine=\"openpyxl\")\n",
    "\n",
    "dict={}\n",
    "\n",
    "for index, row in df.iterrows():\n",
    "    start=\"<I>\"\n",
    "    end=\"</I>\"\n",
    "    start_idx=row['Additional comments'].find(start)+len(start)\n",
    "    end_idx=row['Additional comments'].find(end)\n",
    "    for i in row['Additional comments'][start_idx:end_idx].split(\",\"):\n",
    "        if i.strip() in dict:\n",
    "            dict[i.strip()]+=1\n",
    "        else:\n",
    "            dict[i.strip()]=1\n",
    "\n",
    "# Display the DataFrame\n",
    "dict\n",
    "dict1={\"Group name\":dict.keys(),\"Number of occurrences\":dict.values()}\n",
    "df1=pd.DataFrame(dict1)\n",
    "print(df1.to_string(index=False))\n"
   ]
  },
  {
   "cell_type": "code",
   "execution_count": null,
   "metadata": {},
   "outputs": [],
   "source": [
    "import csv\n",
    "import random\n",
    "from typing import List, Dict\n",
    "\n",
    "def read_csv(file_path: str) -> List[Dict[str, str]]:\n",
    "    with open(file_path, mode='r', newline='', encoding='utf-8') as file:\n",
    "        return list(csv.DictReader(file))\n",
    "\n",
    "def write_csv(file_path: str, data: List[Dict[str, str]]):\n",
    "    with open(file_path, mode='w', newline='', encoding='utf-8') as file:\n",
    "        writer = csv.DictWriter(file, fieldnames=data[0].keys())\n",
    "        writer.writeheader()\n",
    "        writer.writerows(data)\n",
    "\n",
    "def assign_secret_santa(employees: List[Dict[str, str]], previous: Dict[str, str]) -> List[Dict[str, str]]:\n",
    "    names = [e[\"Employee_Name\"] for e in employees]\n",
    "    available = names[:]\n",
    "    random.shuffle(available)\n",
    "    \n",
    "    assignments = []\n",
    "    for emp in employees:\n",
    "        choices = [n for n in available if n != emp[\"Employee_Name\"] and n != previous.get(emp[\"Employee_Name\"])]\n",
    "        if not choices:\n",
    "            return assign_secret_santa(employees, previous)\n",
    "        secret_child = random.choice(choices)\n",
    "        assignments.append({\n",
    "            \"Employee_Name\": emp[\"Employee_Name\"], \n",
    "            \"Employee_EmailID\": emp[\"Employee_EmailID\"], \n",
    "            \"Secret_Child_Name\": secret_child, \n",
    "            \"Secret_Child_EmailID\": next(e[\"Employee_EmailID\"] for e in employees if e[\"Employee_Name\"] == secret_child)\n",
    "        })\n",
    "        available.remove(secret_child)\n",
    "    \n",
    "    return assignments\n"
   ]
  },
  {
   "cell_type": "code",
   "execution_count": null,
   "metadata": {},
   "outputs": [],
   "source": [
    "employees = read_csv(\"employees.csv\")\n",
    "previous_assignments = {row[\"Employee_Name\"]: row[\"Secret_Child_Name\"] for row in read_csv(\"previous_santa.csv\")} if employees else {}"
   ]
  },
  {
   "cell_type": "code",
   "execution_count": null,
   "metadata": {},
   "outputs": [],
   "source": [
    "new_assignments = assign_secret_santa(employees, previous_assignments)"
   ]
  },
  {
   "cell_type": "code",
   "execution_count": null,
   "metadata": {},
   "outputs": [],
   "source": [
    "write_csv(\"new_santa_assignments.csv\", new_assignments)\n",
    "print(\"Secret Santa assignments completed!\")"
   ]
  },
  {
   "cell_type": "code",
   "execution_count": 15,
   "metadata": {},
   "outputs": [
    {
     "name": "stderr",
     "output_type": "stream",
     "text": [
      "'git' is not recognized as an internal or external command,\n",
      "operable program or batch file.\n"
     ]
    }
   ],
   "source": [
    "!git init"
   ]
  },
  {
   "cell_type": "code",
   "execution_count": 13,
   "metadata": {},
   "outputs": [
    {
     "name": "stderr",
     "output_type": "stream",
     "text": [
      "'git' is not recognized as an internal or external command,\n",
      "operable program or batch file.\n",
      "'git' is not recognized as an internal or external command,\n",
      "operable program or batch file.\n"
     ]
    }
   ],
   "source": [
    "!git add .\n",
    "!git commit -m \"Initial commit - Secret Santa Game\""
   ]
  },
  {
   "cell_type": "code",
   "execution_count": 14,
   "metadata": {},
   "outputs": [
    {
     "name": "stderr",
     "output_type": "stream",
     "text": [
      "ERROR: Could not find a version that satisfies the requirement git (from versions: none)\n",
      "ERROR: No matching distribution found for git\n"
     ]
    }
   ],
   "source": [
    "!pip install git"
   ]
  }
 ],
 "metadata": {
  "kernelspec": {
   "display_name": "Python 3",
   "language": "python",
   "name": "python3"
  },
  "language_info": {
   "codemirror_mode": {
    "name": "ipython",
    "version": 3
   },
   "file_extension": ".py",
   "mimetype": "text/x-python",
   "name": "python",
   "nbconvert_exporter": "python",
   "pygments_lexer": "ipython3",
   "version": "3.12.2"
  }
 },
 "nbformat": 4,
 "nbformat_minor": 2
}
