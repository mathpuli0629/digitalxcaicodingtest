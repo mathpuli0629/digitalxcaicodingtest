{
 "cells": [
  {
   "cell_type": "code",
   "execution_count": null,
   "metadata": {},
   "outputs": [],
   "source": [
    "import pandas as pd\n",
    "\n",
    "# Path to your CSV file\n",
    "file_path = \"G:/Desktop Icons/SOFI/coding challenge test (1).xlsx\"\n",
    "\n",
    "# Read CSV file into DataFrame\n",
    "df = pd.read_excel(file_path,sheet_name=\"Input Data sheet\", engine=\"openpyxl\")\n",
    "\n",
    "dict={}\n",
    "\n",
    "for index, row in df.iterrows():\n",
    "    start=\"<I>\"\n",
    "    end=\"</I>\"\n",
    "    start_idx=row['Additional comments'].find(start)+len(start)\n",
    "    end_idx=row['Additional comments'].find(end)\n",
    "    for i in row['Additional comments'][start_idx:end_idx].split(\",\"):\n",
    "        if i.strip() in dict:\n",
    "            dict[i.strip()]+=1\n",
    "        else:\n",
    "            dict[i.strip()]=1\n",
    "\n",
    "# Display the DataFrame\n",
    "dict\n",
    "dict1={\"Group name\":dict.keys(),\"Number of occurrences\":dict.values()}\n",
    "df1=pd.DataFrame(dict1)\n",
    "print(df1.to_string(index=False))\n"
   ]
  },
  {
   "cell_type": "code",
   "execution_count": 1,
   "metadata": {},
   "outputs": [
    {
     "name": "stderr",
     "output_type": "stream",
     "text": [
      "warning: in the working copy of 'codingtest.ipynb', LF will be replaced by CRLF the next time Git touches it\n",
      "warning: in the working copy of 'codingtest1.ipynb', LF will be replaced by CRLF the next time Git touches it\n"
     ]
    },
    {
     "name": "stdout",
     "output_type": "stream",
     "text": [
      "[main 09045e4] Update Secret Santa logic\n",
      " 2 files changed, 114 insertions(+), 75 deletions(-)\n",
      " create mode 100644 codingtest1.ipynb\n"
     ]
    },
    {
     "name": "stderr",
     "output_type": "stream",
     "text": [
      "To https://github.com/mathpuli0629/digitalxcaicodingtest\n",
      "   f6fa822..09045e4  main -> main\n"
     ]
    }
   ],
   "source": [
    "!git add .\n",
    "!git commit -m \"Update Secret Santa logic\"\n",
    "!git push origin main"
   ]
  }
 ],
 "metadata": {
  "kernelspec": {
   "display_name": "Python 3",
   "language": "python",
   "name": "python3"
  },
  "language_info": {
   "codemirror_mode": {
    "name": "ipython",
    "version": 3
   },
   "file_extension": ".py",
   "mimetype": "text/x-python",
   "name": "python",
   "nbconvert_exporter": "python",
   "pygments_lexer": "ipython3",
   "version": "3.12.2"
  }
 },
 "nbformat": 4,
 "nbformat_minor": 2
}
